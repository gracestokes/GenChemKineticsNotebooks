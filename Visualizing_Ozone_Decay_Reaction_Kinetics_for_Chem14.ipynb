{
  "nbformat": 4,
  "nbformat_minor": 0,
  "metadata": {
    "kernelspec": {
      "display_name": "Python 3",
      "language": "python",
      "name": "python3"
    },
    "language_info": {
      "codemirror_mode": {
        "name": "ipython",
        "version": 3
      },
      "file_extension": ".py",
      "mimetype": "text/x-python",
      "name": "python",
      "nbconvert_exporter": "python",
      "pygments_lexer": "ipython3",
      "version": "3.8.3"
    },
    "colab": {
      "name": "Visualizing_Ozone Decay_Reaction_Kinetics for Chem14.ipynb",
      "provenance": [],
      "collapsed_sections": []
    }
  },
  "cells": [
    {
      "cell_type": "markdown",
      "metadata": {
        "id": "FfsoiMAQSQiT"
      },
      "source": [
        "# Visualizing Decay Reaction Kinetics with Python\n",
        "\n",
        "### Computational Guided Inquiry for General Chemistry \n",
        "Written by Dr. Steven Neshyba (University of Puget Sound)\n",
        "<br><i>Adapted for Chem 14 at Santa Clara University by Ayush Kris (Class of 2021) and Dr. Grace Stokes</i></br>\n",
        "\n",
        "## Learning Objective: \n",
        "Use Python graphics to visualize the differences between 1st and 2nd order kinetic rate laws.\n",
        "\n",
        "## Key activities:\n",
        "1) Learn some Python key words (<i>print</i>, <i>string</i>, <i>float</i>, <i>linspace</i>, <i>ndarray</i>).\n",
        "<br>2) Graph experimental data for an atmospheric reaction and estimate half-life.\n",
        "<br>3)  Graph theoretical pollutant concentrations using 1st and 2nd order rate laws. Put these values in a table using <i>pandas</i>.\n",
        "<br>4) Determine the order based on comparison between experiment and theory graphically.</br>"
      ]
    },
    {
      "cell_type": "markdown",
      "metadata": {
        "id": "TdxnxKoHSQiV"
      },
      "source": [
        "## Part 1a. Review Chemical Kinetics\n",
        "\n",
        "The chemical reactions we will be studying in this activity are of the general form\n",
        "<p style='text-align: right;'> \n",
        "$ A \\longrightarrow products \\qquad\\qquad\\qquad\\qquad\\qquad\\qquad\\qquad\\qquad\\qquad  (1) $\n",
        "</p>\n",
        "\n",
        "This is called a decay equation because it tells us that the substance $A$ is disappearing. However, the decay equation does not tell us <i>HOW FAST </i> reactant $A$ is disappearing. To quantify <i>HOW FAST</i> a reaction is proceeding, chemists invented the field of chemical kinetics.\n",
        "\n",
        "Chemical kinetics is divided into two general branches. The first branch describes how the reaction rate depends reactant concentration (in this case, just $A$), which is the focus of <i>Tro 14.4 and 14.5</i>.\n",
        "We have also learned about the second branch of chemical kinetics, which is concerned with how reaction rates depend on temperature <i> (Tro 14.6).</i>\n",
        "\n",
        "Stoichiometrically simple reactions can be described using what is called the <i>order</i> of a reaction. In both 1st and 2nd order reactions, $k$ (with subscript 1 or 2 to denote the order) is the rate constant for the decay.\n",
        "\n",
        "## Equations for <i>1st order </i>decay\n",
        "If decay is 1st order, we imagine that every once in a while, a molecule of reactant $A$ decides to decay into a product molecule. Perhaps this is the result of multiple collisions with solvent molecules, or some other influence, but the main point is that it does not require a collision with another molecule of reactant $A$. \n",
        "<p>In a 1st order reaction, the rate law is written as</p>\n",
        "\n",
        "<p style='text-align: right;'>\n",
        "$ rate = - \\dfrac{\\Delta[A]}{\\Delta t} =k_1[A]$ \n",
        "$\\qquad\\qquad\\qquad\\qquad\\qquad\\qquad\\qquad\\qquad\\qquad  (2) $  \n",
        "<br>\n",
        "    \n",
        "Using calculus, we can derive an integrated rate law given by\n",
        "\n",
        "<p style='text-align: right;'>\n",
        "$ [A] = [A]_0e^{-k_1t}$\n",
        "$\\qquad\\qquad\\qquad\\qquad\\qquad\\qquad\\qquad\\qquad\\qquad\\qquad  (3) $\n",
        "</p>\n",
        "\n",
        "<p>If a reaction is 1st order with respect to $A$, we can use the half life ($t_\\frac{1}{2}$) value to determine the rate constant ($k_1$): \n",
        "<p style='text-align: right;'>\n",
        "$k_1 = \\dfrac{ln(2)}{t_\\frac{1}{2}}$  \n",
        "$\\qquad\\qquad\\qquad\\qquad\\qquad\\qquad\\qquad\\qquad\\qquad\\qquad   (4) $  \n",
        "<br>\n",
        "    \n",
        "## Equations for <i>2nd order</i> decay\n",
        "When a reaction is 2nd order with respect to reactant $A$, two molecules of $A$ <i>must</i> collide in order to react. In this case, we write the rate law as\n",
        "<p style='text-align: right;'>\n",
        "$ rate = - \\dfrac{\\Delta[A]}{\\Delta t} =k_2[A]^2$ \n",
        "$\\qquad\\qquad\\qquad\\qquad\\qquad\\qquad\\qquad\\qquad\\qquad  (5) $  \n",
        "<br>\n",
        "\n",
        "which corresponds to an integrated rate law of the form\n",
        "<p style='text-align: right;'>\n",
        "$ [A] =( \\frac{1}{[A]_0}+k_2t)^{-1}$\n",
        "$\\qquad\\qquad\\qquad\\qquad\\qquad\\qquad\\qquad\\qquad\\qquad  (6) $\n",
        "</p>\n",
        "<p> If a reaction is 2nd order with respect to $A$, we can also use $t_\\frac{1}{2}$ to determine the 2nd order rate constant ($k_2$) following a different equation:\n",
        "<p style='text-align: right;'>\n",
        "$k_2 = \\dfrac{1}{t_\\frac{1}{2}[A]_0}$  \n",
        "$\\qquad\\qquad\\qquad\\qquad\\qquad\\qquad\\qquad\\qquad\\qquad\\qquad   (7) $  \n",
        "<br>"
      ]
    },
    {
      "cell_type": "markdown",
      "metadata": {
        "id": "gkNRgD3ESQiV"
      },
      "source": [
        "### Pause for Analysis #1a:\n",
        "Before you continue, please hand-write (using the google drawing tool) Equations 1 through 7 (listed above) in your digital lab notebook. These equations are used in the exercise below."
      ]
    },
    {
      "cell_type": "markdown",
      "metadata": {
        "id": "HiZ_eN3NSQiW"
      },
      "source": [
        "## Part 1b. Predict half life from experimental data\n",
        "In the stratosphere (10 km to 50 km above the Earth's surface), ozone ($O_3$) protects living things from ultraviolet (UV) radiation from the sun. However, $O_3$ can also be found at ground level (below 10 km), where it is harmful to human health. For more information, see https://www.epa.gov/ground-level-ozone-pollution. The data in Table 1 was collected during an ozone (or $O_3$) decay reaction:\n",
        "\n",
        "\n",
        "<p style='text-align: right;'>\n",
        "$O_3 (g) \\overset{sunlight} \\longrightarrow  O_2(g) + O(g) $\n",
        "$\\qquad\\qquad\\qquad\\qquad\\qquad\\qquad\\qquad\\qquad\\qquad  (8) $\n",
        "</p>\n",
        "\n",
        "\n",
        "<p style ='text-align: center;'>\n",
        "Table 1. Experimentally measured ozone concentrations versus time.\n",
        "<p></p>\n",
        "<p></p>\n",
        "<img src=\"https://www.gystokes.com/wp-content/uploads/2020/09/Table1_ozone_kinetics.png\" height=\"264\" width=\"320\"/> </p>\n",
        "\n"
      ]
    },
    {
      "cell_type": "markdown",
      "metadata": {
        "id": "tWcHQyWVSQiX"
      },
      "source": [
        "## Pause for Analysis #1b:\n",
        "Look carefully at the experimental data in Table 1. Write your answers in your digital lab notebook. \n",
        "<br>1. Estimate the half life ($t_\\frac{1}{2}$). As a reminder, the $t_\\frac{1}{2}$ is the time (in seconds) that it takes for the concentration to drop to half of its initial value.</br>\n",
        "<br>2. Check with one of your classmates to find out what value they obtained for $t_\\frac{1}{2}$. Write your classmate's name and their $t_\\frac{1}{2}$</br> value in your notebook.</br>\n",
        "<br>3. If you and your classmate do not have the same value, provide an argument for which value is more valid.</br>"
      ]
    },
    {
      "cell_type": "markdown",
      "metadata": {
        "id": "nWutTBPCSQiX"
      },
      "source": [
        "## Part 2a. Introduction to Python\n",
        "\n",
        "Python is a widely used, open source programming language developed by Guido van Rossum. It was first released in 1991. Python is a great language for beginner programmers because it was designed with the newcomer in mind. Python was designed to be readable and it has a simple and consistent syntax. Additionally, Python has a very extensive selection of mathematical and scientific libraries. These libraries contain code that has already been written to perform specific tasks so you can simply call the library rather than write the code itself. Best of all, Python is free and readily available to both PC and mac users! In this exercise, we will use Python to visualize how the concentration of a reactant changes as a function of time depending on reaction order. \n",
        "<p>Hashtags (<i>#</i>) at the beginning of a line signify comments but do not impact the execution of the code.</p>\n",
        "<br> The first step is to bring in (or import) the libraries for numerical operations and graphics. That's what the next cell does.</br> <br>Click in the box, then press Shift and Enter at the same time.</br>"
      ]
    },
    {
      "cell_type": "code",
      "metadata": {
        "id": "AMPhz76xSQiY"
      },
      "source": [
        "# Execute this cell with shift-enter or by left-clicking the \"play button\" to the left. \n",
        "# This cell imports various libraries and packages that we will need\n",
        "\n",
        "# numpy is used for numerical operations\n",
        "import numpy as np\n",
        "\n",
        "# matplotlib.pyplot is used for graphics\n",
        "import matplotlib.pyplot as plt\n",
        "\n",
        "# This command makes our graphs zoom-able & resize-able\n",
        "%matplotlib notebook\n",
        "\n",
        "# We will use pandas to make data tables\n",
        "import pandas as pd"
      ],
      "execution_count": null,
      "outputs": []
    },
    {
      "cell_type": "markdown",
      "metadata": {
        "id": "Psw-Ou7tSQib"
      },
      "source": [
        "The first program in Python that many people learn to write is a \"Hello, world!\" program. The purpose of the cell below is to get your program to output the phrase Hello, world! Click in the box, and press <i>shift-enter</i> to execute it."
      ]
    },
    {
      "cell_type": "code",
      "metadata": {
        "id": "xFayQjt0SQic",
        "outputId": "9599b797-dcce-43af-a1ba-f289446f958c",
        "colab": {
          "base_uri": "https://localhost:8080/",
          "height": 34
        }
      },
      "source": [
        "print('Hello, world!')"
      ],
      "execution_count": null,
      "outputs": [
        {
          "output_type": "stream",
          "text": [
            "Hello, world!\n"
          ],
          "name": "stdout"
        }
      ]
    },
    {
      "cell_type": "markdown",
      "metadata": {
        "id": "cn3XYLznSQif"
      },
      "source": [
        "As you can see, printing a statement (Hello, world!) in Python is a relatively simple task. Type the word <b>print</b> and then put the phrase in single quotation marks within the parentheses. The quotation marks indicate you have a <b>string</b> of text in Python.\n",
        "\n",
        "Click in the cell below and write the appropriate command to output the following two statements:\n",
        "<p>My name is firstname lastname. (Make sure to put your actual first and last names) </p>\n",
        "<p>I am excited to use Python to (fill in the blank with the Learning Objective listed at the top of the page). </p>"
      ]
    },
    {
      "cell_type": "code",
      "metadata": {
        "id": "9TrO2mIdSQig"
      },
      "source": [
        ""
      ],
      "execution_count": null,
      "outputs": []
    },
    {
      "cell_type": "markdown",
      "metadata": {
        "id": "o-13OxpfSQii"
      },
      "source": [
        "## Part 2b. Data types in Python: strings, integers, floats\n",
        "<p> \"Hello world\" and the other sentences you wrote above are categorized as a data type (or class) called <b>string</b> in Python. \n",
        "<p> When we want to work with numbers, we will use either <b>integers</b> or <b>floats</b>. Integers are whole numbers. If a number is written with no decimal point, Python treats it as an integer (abbreviated as 'int').\n",
        "Floats are numbers with decimals. If a number is written with a decimal point then Python treats it as a float.</p>\n",
        "<p>If you try to define a variable as a mix of numbers and letters, you will get the error message, \"invalid syntax.\" Correcting the error is known as \"debugging code.\"</p>\n",
        "\n",
        "<p>In the cell below, change the value for <b>half_life_s</b> to the value (in seconds, s) you decided was most valid in Pause for Analysis #1b. The correct value should NOT be 200.</p>"
      ]
    },
    {
      "cell_type": "code",
      "metadata": {
        "id": "6SPHMTEDSQij"
      },
      "source": [
        "# Execute this cell with shift-enter or by left-clicking the \"play button\" to the left. \n",
        "# We include the units in the variable name to avoid a syntax error. \n",
        "half_life_s = 200\n",
        "print('half life =',half_life_s,'s')\n",
        "print('half_life_s belongs to', type(half_life_s))\n",
        "\n",
        "# We define initial_O3_conc_M from the value found in the top row of Table 1 (measured at t=0.0 s)\n",
        "initial_O3_conc_M = 1E-4\n",
        "print('initial ozone conc =',initial_O3_conc_M,'M')\n",
        "print('initial_O3_conc_M belongs to', type(initial_O3_conc_M))"
      ],
      "execution_count": null,
      "outputs": []
    },
    {
      "cell_type": "markdown",
      "metadata": {
        "id": "DDiiQ9vBSQil"
      },
      "source": [
        "## Pause for Analysis #2: \n",
        "First, execute the cell above. Then, answer the following questions in your lab notebook.\n",
        "In the cell above, we defined the initial ozone ($O_3$) concentration in Molar (M) as $1x10^{-4}$. \n",
        "1. What is the data type (or <i>class</i>) for the variable <i>initial_O3_conc_M</i>? \n",
        "2. Explain why it is in a different <i>class</i> than <i>half_life_s</i>."
      ]
    },
    {
      "cell_type": "markdown",
      "metadata": {
        "id": "PZNJBQ0YSQim"
      },
      "source": [
        "<i>A brief note about Google Colaboratory Notebooks:\n",
        "The notebook only executes the current code block. This can have several unintended consequences. If you change a value and then go back and run an earlier code block, it will use the new value, not the first defined value, which may give you incorrect analysis. \n",
        "Similarly, if you open your notebook later, and try to run a code block in the middle, it may tell you that your variables are undefined, even though you can clearly see them defined in earlier code blocks. But if you didn’t re-run those code blocks, then Python doesn’t know they exist.</i>\n",
        "\n",
        "## Part 3a. Generate arrays of numbers using functions from the numpy library\n",
        "\n",
        "In part 2b, we defined variables that have a single value, such as the <i>half_life_s</i> or the <i>initial_O3_conc_M</i>. \n",
        "<br>Sometimes we want to perform a calculation on an array of numbers, such as those found in Table 1.</br>\n",
        "<br>Ozone concentration, [$ozone$], was measured every $100.0 s$ over a timespan ranging from $t = 0.0 s$ to $t = 600.0 s$.</br>\n",
        "<br>Instead of a single value, we want an array of numbers to represent $time$ and [$ozone$].</br>\n",
        "\n",
        "<p>The <b>numpy</b> library has a few different functions that we can use to create numerical arrays. The first one is called <i>np.linspace</i>, which generates an <i>N</i>-dimensional array (ndarray) of evenly spaced values within a defined interval (from 0.0 to 600.0). Next, we enter ozone concentration data in moles per liter (or Molar) collected at the time intervals listed.</p>\n",
        "\n",
        "Then, we will calculate corresponding theoretical values for [ozone] (M) at each time interval. We call this variable <i>ozone_1st_order_M</i> and print the values out below. </p> \n",
        "Next, we calculate the different values of [$O_3$], which varies with time. Since <i>time_s_exp</i> is an <i>N</i>-dimensional array (<i>ndarray</i>) with 7 values, <i>ozone_1st_order_M</i> is also a 7-dimensional array.\n",
        "\n",
        "## Part 3b. Predict ozone concentrations based on 1st and 2nd order rate laws and put these values into a pandas table along with the data from Table 1.\n",
        "Our goal is to calculate the theoretical values for [$ozone$] (M) at each time interval following either Equation 4 (for 1st order rate law) or Equation 7 (for 2nd order rate law).\n",
        "\n",
        "To calculate the first order rate constant ($k_1$) following Equation 4, we first need to calculate $ln(2)$ using Python. Note that in the numpy library, $ln(2)$ is denoted as $np.log(2)$, which seems confusing but it works!\n",
        "To calculate predicted ozone concentrations from equation 6, but first we must determine the 2nd order rate constant ($k_2$) from Equation 7.\n",
        "\n",
        "## Part 3c. Make a data table using the <i>pandas</i> library.\n",
        "To make the arrays of data listed above MUCH easier to read, we will add the experimental and theoretical values for [ozone] in M (molar) and %errors to a table using the datafram (df) function from the pandas library."
      ]
    },
    {
      "cell_type": "code",
      "metadata": {
        "id": "ax2FdM1BSQim"
      },
      "source": [
        "# Execute this cell with shift-enter or by clicking the \"play button\" to the left.\n",
        "\n",
        "# Part 3a: In the command below, we input the times (in seconds) when we collect each data point.\n",
        "# The number 7 in the parentheses indicates that there are 7 evenly-spaced data points between 0 and 600. \n",
        "time_s_exp=np.linspace(0,600,7)\n",
        "      \n",
        "# The function np.array allows you to input values that you type directly into a list.\n",
        "# We got these values from the right-most column of Table 1\n",
        "ozone_conc_M_exp = np.array([0.000100,0.0000896,0.0000803,0.0000717,0.0000644,0.0000577,0.0000517])\n",
        "\n",
        "# Part 3b: 1st order rate law\n",
        "# Here is where we calculate ln2 and plug into Equation 4 to get k1\n",
        "x=np.log(2)\n",
        "print(f'Half-life = {half_life_s} seconds')\n",
        "print(f'The value of natural log of 2 (ln(2))={x:.5}')\n",
        "k1= x / half_life_s\n",
        "# recall that the units of k1 is s^-1\n",
        "print(f'The first order rate constant (k1)={k1:.5} s^-1.')\n",
        "# In the numpy library, exponentials are denoted as exp(...) so for example, exp(5) = e^5.\n",
        "# This line of code generates the ozone concentration data from Equation 3 for a 1st order reaction\n",
        "ozone_1st_order_M=initial_O3_conc_M*np.exp(-k1*time_s_exp)\n",
        "\n",
        "# Part 3b: 2nd order rate law\n",
        "# recall that the units of k2 is M^-1 s^-1\n",
        "k2=1/(half_life_s*initial_O3_conc_M)\n",
        "print(f'The second order rate constant (k2) is {k2:.5} M^-1 s^-1.')\n",
        "# Here we predict the ozone concentration data from Equation 6 for a 2nd order reaction\n",
        "# Note that ** means raised to the power of (In Python, ax^3 can be written as a*x**3)\n",
        "ozone_2nd_order_M=(((1/(initial_O3_conc_M))+k2*time_s_exp))**(-1)\n",
        "\n",
        "# Part 3c: Input the data generated above into a table\n",
        "# Create an empty dataframe\n",
        "df = pd.DataFrame()\n",
        "# Add data to the dataframe\n",
        "df['time (s)'] = time_s_exp\n",
        "df['exp[ozone](M)'] = ozone_conc_M_exp\n",
        "df['theor[ozone]-1st'] = ozone_1st_order_M\n",
        "df['theor[ozone]-2nd'] = ozone_2nd_order_M\n",
        "\n",
        "# This command makes the table in this cell\n",
        "df"
      ],
      "execution_count": null,
      "outputs": []
    },
    {
      "cell_type": "markdown",
      "metadata": {
        "id": "eh1oWdQdSQi2"
      },
      "source": [
        "## Pause for Analysis #3:\n",
        "In your lab notebook, answer the following questions: \n",
        "Which theoretical reaction mechanism (1st order rate law or 2nd order rate law) is closer to the experimentally-determined values for ozone decay?"
      ]
    },
    {
      "cell_type": "markdown",
      "metadata": {
        "id": "yPyg0sRXSQi2"
      },
      "source": [
        "## Part 4a. Plot only the experimental data.\n",
        "Using the library matplotlib, which is abbreviated as plt, we will plot the experimentally-measured ozone concentrations as a function of time. We will label our plot with the proper title, and x and y axes."
      ]
    },
    {
      "cell_type": "code",
      "metadata": {
        "id": "E6e8U5niSQi3"
      },
      "source": [
        "# Execute this cell with shift-enter or by clicking the \"play button\" to the left.\n",
        "# This initializes the plot window\n",
        "plt.figure()\n",
        "\n",
        "# This plots ozone_conc_M_exp (independent variable) as a function of time_s_exp (dependent variable)\n",
        "# 'ro' means red circles. If you would like to change the color of your markers, use this list of abbreviations: https://docs.google.com/document/d/1AC4tEjAnqF-qclPq9FGlAg84TEGD1wNhhtSsHqd7Mbc/edit?usp=sharing\n",
        "plt.plot(time_s_exp,ozone_conc_M_exp,'ro')\n",
        "plt.title('Ozone concentration versus time')\n",
        "plt.xlabel('Time (s)')\n",
        "plt.ylabel('Ozone (M)')\n",
        "plt.grid(True)"
      ],
      "execution_count": null,
      "outputs": []
    },
    {
      "cell_type": "markdown",
      "metadata": {
        "id": "hFVS5jHiSQi6"
      },
      "source": [
        "## Part 4b. Compare experimental data to 1st and 2nd order rate laws.\n",
        "\n",
        "Now, we want to overlay our theoretical values from the 1st and 2nd order rates laws on a graph WITH the experimental data. However, we want to make our theoretical data a smooth line with more than 7 points, so we will define a new variable called <i>time_s_theor</i>. If we don't stipulate how many data points we have, as we did with the number 7 in the command <i>time_s_exp=np.linspace(0.0,600.0,7)</i> above, the default value is 50, as shown below.\n",
        "\n",
        "Next, we will overlay the theoretical traces with the experimental data from Table 1."
      ]
    },
    {
      "cell_type": "code",
      "metadata": {
        "id": "CErPciw8SQi6"
      },
      "source": [
        "# Execute this cell with shift-enter or by clicking the \"play button\" to the left.\n",
        "\n",
        "# This code below generates 50 evenly-spaced points between 0 and 600 seconds\n",
        "time_s_theor=np.linspace(0,600)\n",
        "\n",
        "#recall that init_O3_conc_M, k1 and k2 were previously defined in Part 3b so we do not need to re-define it (unless we want to change the value for half-life)\n",
        "ozone_theor_1st_M= initial_O3_conc_M*np.exp(-k1*time_s_theor)\n",
        "ozone_theor_2nd_M=(((1/(initial_O3_conc_M))+k2*time_s_theor))**(-1)\n",
        "\n",
        "# This initializes the plot window\n",
        "plt.figure()\n",
        "\n",
        "# This plots ozone_conc_M_exp (independent variable) as a function of time_s_exp (dependent variable)\n",
        "plt.title('Ozone concentration versus time')\n",
        "plt.xlabel('Time (s)')\n",
        "plt.ylabel('Ozone (M)')\n",
        "plt.grid(True)\n",
        "\n",
        "# These commands plot experimental data on the same graph as theoretical values for a 1st order decay and 2nd order decay.\n",
        "# 'ro' means red circles, 'b-' means blue line and 'g.' means green dots (If you would like to change the color of your markers, use this list of abbreviations: https://docs.google.com/document/d/1AC4tEjAnqF-qclPq9FGlAg84TEGD1wNhhtSsHqd7Mbc/edit?usp=sharing)\n",
        "plt.plot(time_s_exp,ozone_conc_M_exp,'ro',label='experimental')\n",
        "plt.plot(time_s_theor,ozone_theor_1st_M,'b-',label='1st order theory')\n",
        "plt.plot(time_s_theor,ozone_theor_2nd_M,'g.', label='2nd order theory')\n",
        "\n",
        "#This command generates a legend.\n",
        "plt.legend()"
      ],
      "execution_count": null,
      "outputs": []
    },
    {
      "cell_type": "markdown",
      "metadata": {
        "id": "15YLiQRoeLKA"
      },
      "source": [
        "## Pause for Analysis #4:\n",
        "In your lab notebook, answer the following questions: \n",
        "1. Based on the figure above entitled \"Theoretical versus experimental ozone concentrations,\" which theoretical reaction mechanism (1st order rate law or 2nd order rate law) is closer to the experimentally-determined values for ozone decay? \n",
        "2. What are the advantages and disadvantages of doing a visual comparison using the graph above versus a numerical comparison from the data table in Part 3d?"
      ]
    },
    {
      "cell_type": "markdown",
      "metadata": {
        "id": "0TtqzIyCSQjF"
      },
      "source": [
        "## Part 5. What if we use a different value for half-life?\n",
        "\n",
        "In the cell below, you will learn to \"play around\" with the values for $k_1$ and $k_2$. The best way to change $k_1$ and $k_2$ is by changing the half-life value. In the cell immediately below, you will determine how the rate laws change when you change the half-life. In the subsequent cell, you can visualize that change in a graph. How do theoretical ozone concentrations change? Make comparisons to the experimental data.</br>\n",
        "\n"
      ]
    },
    {
      "cell_type": "code",
      "metadata": {
        "id": "7dZRvpC1fqo8"
      },
      "source": [
        "# First, change the half_life_high value to 690 and the half_life_low value to 600.\n",
        "half_life_high=900\n",
        "half_life_low=50\n",
        "\n",
        "# Now you should execute this cell with shift-enter or by clicking the \"play button\" to the left.\n",
        "# Use 1st order rate law to calculate k1 with different half lives.\n",
        "# recall that the units of k1 is s^-1\n",
        "k1_high=np.log(2)/half_life_high\n",
        "k1_low=np.log(2)/half_life_low\n",
        "print(f'If half-life= {half_life_high}, the first order rate constant (k1)={k1_high:.5} s^-1.')\n",
        "print(f'If half-life= {half_life_low}, the first order rate constant (k1)={k1_low:.5} s^-1.')\n",
        "#recall that initial_O3_conc_M=1E-4 (we do not need to re-define these values) \n",
        "ozone_theoretical_high = initial_O3_conc_M*np.exp(-k1_high*time_s_theor)\n",
        "ozone_theoretical_low = initial_O3_conc_M*np.exp(-k1_low*time_s_theor)\n",
        "\n",
        "# This initializes the plot window\n",
        "plt.figure()\n",
        "\n",
        "# This plot only includes the 1st order rate laws\n",
        "plt.plot(time_s_exp,ozone_conc_M_exp,'ro',label='experimental')\n",
        "plt.plot(time_s_theor,ozone_theoretical_high,'k-',label=half_life_high)\n",
        "plt.plot(time_s_theor,ozone_theor_1st_M,'b-',label=half_life_s)\n",
        "plt.plot(time_s_theor,ozone_theoretical_low,'g-', label=half_life_low)\n",
        "\n",
        "plt.legend()\n",
        "plt.title('First order ozone concentrations versus time')\n",
        "plt.xlabel('Time (s)')\n",
        "plt.ylabel('Ozone (M)')\n",
        "plt.grid(True)"
      ],
      "execution_count": null,
      "outputs": []
    },
    {
      "cell_type": "markdown",
      "metadata": {
        "id": "dac5UUce9FOr"
      },
      "source": [
        "## Pause for Analysis 5a:\n",
        "In your lab notebook, answer the following questions: \n",
        "1. As we increase the half life, describe how the theoretical values from the 1st order rate law change?\n",
        "2. At t=600s, is the overlap for the highest half life greater or less with the experimental values?"
      ]
    },
    {
      "cell_type": "code",
      "metadata": {
        "id": "WvKf2QtjSQjG"
      },
      "source": [
        "# Execute this cell with shift-enter or by clicking the \"play button\" to the left.\n",
        "# This plot only includes the 2nd order rate laws\n",
        "\n",
        "# Use 2nd order rate law to calculate k2 with different half lives\n",
        "# recall that the units of k2 is M^-1 s^-1\n",
        "k2_high=1/(half_life_high*initial_O3_conc_M)\n",
        "k2_low=1/(half_life_low*initial_O3_conc_M)\n",
        "print(f'If half-life= {half_life_high}, the second order rate constant (k2) is {k2_high:.5} M^-1 s^-1.')\n",
        "print(f'If half-life= {half_life_low}, the second order rate constant (k2)={k2_low:.5} M^-1 s^-1.')\n",
        "# Here we predict the ozone concentration data from Equation 6 for a 2nd order reaction\n",
        "# Note that ** means raised to the power of (In Python, ax^3 can be written as a*x**3)\n",
        "ozone_2nd_order_high=(((1/(initial_O3_conc_M))+k2_high*time_s_theor))**(-1)\n",
        "ozone_2nd_order_low=(((1/(initial_O3_conc_M))+k2_low*time_s_theor))**(-1)\n",
        "\n",
        "# This initializes the plot window\n",
        "plt.figure()\n",
        "\n",
        "plt.plot(time_s_exp,ozone_conc_M_exp,'ro',label='experimental')\n",
        "plt.plot(time_s_theor,ozone_2nd_order_high,'k-',label=half_life_high)\n",
        "plt.plot(time_s_theor,ozone_theor_2nd_M,'b-',label=half_life_s)\n",
        "plt.plot(time_s_theor,ozone_2nd_order_low,'g-', label=half_life_low)\n",
        "\n",
        "plt.legend()\n",
        "plt.title('Second order ozone concentrations versus time')\n",
        "plt.xlabel('Time (s)')\n",
        "plt.ylabel('Ozone (M)')\n",
        "plt.grid(True)\n"
      ],
      "execution_count": null,
      "outputs": []
    },
    {
      "cell_type": "markdown",
      "metadata": {
        "id": "y7ZAj2Z4faAz"
      },
      "source": [
        "## Pause for Analysis # 5b:\n",
        "In your lab notebook, answer the following questions: \n",
        "1. As we increase the half life, describe how the theoretical values determined from the 2nd order rate law change? \n",
        "2. At t=600 s, do the theoretical values overlap better or worse with the experimental values?</br>"
      ]
    },
    {
      "cell_type": "markdown",
      "metadata": {
        "id": "xOCQtv--SQjP"
      },
      "source": [
        "## Part 6. Summary and final thoughts.\n",
        "\n",
        "Here you will review Python vocabulary, compare your results to your lab partner's, and make extensions to other reactions and future coursework..."
      ]
    },
    {
      "cell_type": "markdown",
      "metadata": {
        "id": "evYLnzN94zM9"
      },
      "source": [
        "## Pause for Analysis #6:\n",
        "\n",
        "1. Draw the 1st and 2nd order decay curves that you observed for ozone along with the legend showing \"high, low and experimental\" values and compare them to the 1st and 2nd order decay curves that your lab partner observed in their \"high, low and experimental\" graphs for $NO_2$. What do you notice is similar and what is different?\n",
        "2. Define the following vocabulary terms that you used in the Python program and give ONE example of how you used that term with proper python syntax: <i>print</i>, <i>string</i>, <i>float</i>, <i>linspace</i>, <i>ndarray</i>\n",
        "3. Consider another reaction that you might be interested in learning about (either related to atmospheric pollutants or other applications). Write the balanced chemical equation with proper phases (ex. solid,liquid,gas,etc.) and predict whether the reaction order might be 1st, 2nd or other and explain your reasoning for this prediction. How might you plan to determine experimentally what the ACTUAL reaction order is?\n",
        "\n",
        "## Why can't we do this with EXCEL?\n",
        "\n",
        "Python can be used to solve more sophisticated (and realistic) kinetics problems. Even though the calculations we showed above can be done with EXCEL because we can solve the differential equations numerically, there are some rate laws where an analytical integrated rate law is NOT possible. For those cases, you will need to use computational methods (like Python) to solve differential equations and predict the concentrations of products at later times. \n",
        "\n",
        "In Chem 150 (Biophysical Chemistry), which is also taught by Dr. Abbyad, you will learn about reactions of the type \n",
        "<p style='text-align: right;'>\n",
        "$A \\longrightarrow  B  \\longrightarrow  C $\n",
        "</p>\n",
        "<p>This leads to a build-up and then depletion of B. It is difficult to get more complicated than that with pencil/paper or even excel because you quickly get to things that aren't easily solved by hand, hence the need for computer simulations! </p>\n",
        "\n",
        "## <b>Final Notes about Grading:</b> \n",
        "In addition to answering the Pause for Analysis questions listed in the Gooogle doc worksheet, you need to share the link for this Jupyter Notebook (.ipynb file) with your lab instructor (Dr. Wheeler) who will be looking for evidence of your careful reading and following of instructions embedded in the exercise. Your grade will depend upon whether the notebook is complete and whether your answers to the Pause for Analysis questions are accurate.</p>"
      ]
    },
    {
      "cell_type": "code",
      "metadata": {
        "id": "sT2Erlwz5QY2"
      },
      "source": [
        ""
      ],
      "execution_count": null,
      "outputs": []
    }
  ]
}